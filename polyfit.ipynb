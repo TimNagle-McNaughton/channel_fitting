{
 "cells": [
  {
   "cell_type": "code",
   "execution_count": 1,
   "metadata": {},
   "outputs": [
    {
     "name": "stdout",
     "output_type": "stream",
     "text": [
      "Imports complete.\n"
     ]
    }
   ],
   "source": [
    "### imports\n",
    "#import arcpy\n",
    "import matplotlib.pyplot as plt\n",
    "\n",
    "%matplotlib inline\n",
    "\n",
    "import glob\n",
    "import numpy as np\n",
    "import pandas as pd\n",
    "\n",
    "print(\"Imports complete.\")"
   ]
  },
  {
   "cell_type": "code",
   "execution_count": 2,
   "metadata": {},
   "outputs": [
    {
     "name": "stdout",
     "output_type": "stream",
     "text": [
      "Variables set.\n"
     ]
    }
   ],
   "source": [
    "### setup\n",
    "\n",
    "# DEM to extract profiles from\n",
    "dem = \"C:/Git_repos/channel_fitting/test_dem.tif\" \n",
    "\n",
    "# a shapefile containing profileson the DEM\n",
    "profile_file = \"C:/Git_repos/channel_fitting/test_profile.shp\" \n",
    "\n",
    "# if the profile file has multiple profiles, they get split and put in this folder\n",
    "output_shapefile_folder = \"C:/Git_repos/channel_fitting/shapefiles/\"\n",
    "\n",
    "# each profile will generate a X, Y table in this location\n",
    "output_table_folder = \"C:/Git_repos/channel_fitting/tables/\"\n",
    "\n",
    "# the name and location where the final data will be saved\n",
    "output_textfile = \"C:/Git_repos/channel_fitting/polyfit_values.csv\"\n",
    "\n",
    "print(\"Variables set.\")"
   ]
  },
  {
   "cell_type": "code",
   "execution_count": null,
   "metadata": {},
   "outputs": [],
   "source": [
    "### split file into individual lines\n",
    "\n",
    "# convert to search cursor\n",
    "with arcpy.da.SearchCursor(profile_file, \"FID\") as cursor:\n",
    "    \n",
    "    # loop through cursor\n",
    "    for row in cursor:\n",
    "        \n",
    "        # select each row\n",
    "        sql=\"\"\"{} = {}\"\"\".format(arcpy.AddFieldDelimiters(profile_file, arcpy.Describe(profile_file).OIDFieldName), row[0])\n",
    "        \n",
    "        # copy each row to a new file\n",
    "        arcpy.Select_analysis(in_features=profile_file, \n",
    "                              out_feature_class=os.path.join(output_shapefile_folder,'Shapefile_{}.shp'.format(row[0])), \n",
    "                              where_clause=sql)\n",
    "\n",
    "print(\"Individual profiles generated.\")"
   ]
  },
  {
   "cell_type": "code",
   "execution_count": null,
   "metadata": {},
   "outputs": [],
   "source": [
    "### run the stack profile\n",
    "\n",
    "# get a list of shapefiles to process\n",
    "shapefile_list = glob.glob(output_shapefile_folder + \"*.shp\")\n",
    "\n",
    "# loop through each shapefile\n",
    "for shapefile in shapefile_list:\n",
    "    \n",
    "    # get name\n",
    "    out_name = arcpy.Describe(shapefile).basename\n",
    "    \n",
    "    # run the stack profile\n",
    "    arcpy.StackProfile_3d(shapefile, profile_targets=[dem], out_table=output_table_folder + out_name  + \".csv\")\n",
    "    \n",
    "print(\"Profile tables generated.\")"
   ]
  },
  {
   "cell_type": "code",
   "execution_count": 5,
   "metadata": {},
   "outputs": [
    {
     "name": "stdout",
     "output_type": "stream",
     "text": [
      "Fit: 0.0006x^2 + -0.2528x + 545.0235\n"
     ]
    }
   ],
   "source": [
    "### process the tables\n",
    "    \n",
    "# write the header -- WILL OVERWRITE\n",
    "with open(output_textfile, \"w\") as output:\n",
    "    output.write(\"table, a, b, c \\n\")\n",
    "\n",
    "    \n",
    "# get a list of all the tables to process\n",
    "table_list = glob.glob(output_table_folder + \"*.csv\")\n",
    "\n",
    "# loop through all the tables\n",
    "for profile_table in table_list:\n",
    "    \n",
    "    # open the table\n",
    "    table = pd.read_csv(profile_table)\n",
    "    \n",
    "    # get x and y\n",
    "    x_values = table[\"FIRST_DIST\"].tolist() \n",
    "    y_values = table[\"FIRST_Z\"].tolist()\n",
    "    \n",
    "    second_order_poly_fit = np.polyfit(x_values, y_values, 2)\n",
    "\n",
    "    # write the table values\n",
    "    with open(output_textfile, \"a\") as output:\n",
    "        output.write(\"{}, {}, {}, {}\\n\".format(profile_table, \n",
    "                                               second_order_poly_fit[0], \n",
    "                                               second_order_poly_fit[1], \n",
    "                                               second_order_poly_fit[2]))\n",
    "        \n",
    "    print(\"{}\\nFit: {}x^2 + {}x + {}\".format(profile_table,\n",
    "                                         round(second_order_poly_fit[0],4),\n",
    "                                         round(second_order_poly_fit[1],4),\n",
    "                                         round(second_order_poly_fit[2],4)))"
   ]
  },
  {
   "cell_type": "code",
   "execution_count": 6,
   "metadata": {},
   "outputs": [
    {
     "data": {
      "image/png": "[encoded data removed]",
      "text/plain": [
       "<Figure size 432x288 with 1 Axes>"
      ]
     },
     "metadata": {
      "needs_background": "light"
     },
     "output_type": "display_data"
    }
   ],
   "source": [
    "### plotting\n",
    "# plot original values\n",
    "plt.scatter(x_values, y_values, c=\"r\", s= 5)\n",
    "\n",
    "# plot fit\n",
    "x_dummy = np.linspace(0, len(x_values))\n",
    "plt.plot(x_dummy, second_order_poly_fit[0]*x_dummy**2 + second_order_poly_fit[1]*x_dummy + second_order_poly_fit[2], c=\"k\")\n",
    "plt.show()"
   ]
  }
 ],
 "metadata": {
  "kernelspec": {
   "display_name": "Python 3",
   "language": "python",
   "name": "python3"
  },
  "language_info": {
   "codemirror_mode": {
    "name": "ipython",
    "version": 3
   },
   "file_extension": ".py",
   "mimetype": "text/x-python",
   "name": "python",
   "nbconvert_exporter": "python",
   "pygments_lexer": "ipython3",
   "version": "3.7.4"
  }
 },
 "nbformat": 4,
 "nbformat_minor": 2
}
