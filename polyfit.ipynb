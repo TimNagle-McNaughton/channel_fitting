{
 "cells": [
  {
   "cell_type": "code",
   "execution_count": 1,
   "metadata": {},
   "outputs": [
    {
     "name": "stdout",
     "output_type": "stream",
     "text": [
      "Imports complete.\n"
     ]
    }
   ],
   "source": [
    "### imports\n",
    "#import arcpy\n",
    "import matplotlib.pyplot as plt\n",
    "\n",
    "%matplotlib inline\n",
    "\n",
    "import glob\n",
    "import numpy as np\n",
    "import pandas as pd\n",
    "\n",
    "print(\"Imports complete.\")"
   ]
  },
  {
   "cell_type": "code",
   "execution_count": 7,
   "metadata": {},
   "outputs": [
    {
     "name": "stdout",
     "output_type": "stream",
     "text": [
      "Variables set.\n"
     ]
    }
   ],
   "source": [
    "### setup\n",
    "\n",
    "# DEM to extract profiles from\n",
    "dem = \"C:/Git_repos/channel_fitting/test_dem.tif\" \n",
    "\n",
    "# put single-profile shapefiles in this folder, preferably with useful names\n",
    "output_shapefile_folder = \"C:/Git_repos/channel_fitting/shapefiles/\"\n",
    "\n",
    "# each profile will generate a corresponding X, Y table in this folder\n",
    "output_table_folder = \"C:/Git_repos/channel_fitting/tables/\"\n",
    "\n",
    "# each profile will be saved as a figure with the fitted line in this folder\n",
    "output_figure_folder = \"C:/Git_repos/channel_fitting/figures/\"\n",
    "\n",
    "# the name and location of the textfile that will log the final data\n",
    "output_textfile = \"C:/Git_repos/channel_fitting/polyfit_values.csv\"\n",
    "\n",
    "print(\"Variables set.\")"
   ]
  },
  {
   "cell_type": "code",
   "execution_count": null,
   "metadata": {},
   "outputs": [],
   "source": [
    "### run the stack profile\n",
    "\n",
    "# get a list of shapefiles to process\n",
    "shapefile_list = glob.glob(output_shapefile_folder + \"*.shp\")\n",
    "\n",
    "# loop through each shapefile\n",
    "for shapefile in shapefile_list:\n",
    "    \n",
    "    # get name\n",
    "    out_name = arcpy.Describe(shapefile).basename\n",
    "    \n",
    "    # save path\n",
    "    save_path = output_table_folder + out_name  + \".csv\"\n",
    "    \n",
    "    # run the stack profile\n",
    "    arcpy.StackProfile_3d(shapefile, profile_targets=dem, out_table=save_path)\n",
    "    \n",
    "print(\"Profile tables generated.\")"
   ]
  },
  {
   "cell_type": "code",
   "execution_count": 22,
   "metadata": {
    "scrolled": false
   },
   "outputs": [
    {
     "name": "stdout",
     "output_type": "stream",
     "text": [
      "C:/Git_repos/channel_fitting/tables\\test_table.csv\n",
      "Fit: 0.0006x^2 + -0.2528x + 545.0235\n"
     ]
    }
   ],
   "source": [
    "### process the tables\n",
    "    \n",
    "# write the header -- WILL OVERWRITE\n",
    "with open(output_textfile, \"w\") as output:\n",
    "    output.write(\"table, a, b, c, residuals \\n\")\n",
    "\n",
    "    \n",
    "# get a list of all the tables to process\n",
    "table_list = glob.glob(output_table_folder + \"*.csv\")\n",
    "\n",
    "# loop through all the tables\n",
    "for profile_table in table_list:\n",
    "    \n",
    "    # open the table\n",
    "    table = pd.read_csv(profile_table)\n",
    "    \n",
    "    # get x and y\n",
    "    x_values = table[\"FIRST_DIST\"].tolist() \n",
    "    y_values = table[\"FIRST_Z\"].tolist()\n",
    "    \n",
    "    second_order_poly_fit = np.polyfit(x_values, y_values, 2, full=True)\n",
    "    a = second_order_poly_fit[0][0]\n",
    "    b = second_order_poly_fit[0][1]\n",
    "    c = second_order_poly_fit[0][2]\n",
    "    residuals = second_order_poly_fit[1][0]\n",
    "    equation = \"{}x^2 + {}x + {}, residuals = {}\".format(round(a, 4), round(b, 2), round(c ,1), round(residuals, 0))\n",
    "\n",
    "    # write the table values\n",
    "    with open(output_textfile, \"a\") as output:\n",
    "        output.write(\"{}, {}, {}, {}, {}\\n\".format(profile_table, a, b, c, residuals))\n",
    "        \n",
    "    print(\"{}\\nFit: {}x^2 + {}x + {}\".format(profile_table, round(a, 4), round(b, 4), round(c ,4)))\n",
    "    \n",
    "    # plot original values\n",
    "    fig, ax = plt.subplots( nrows=1, ncols=1)\n",
    "    ax.scatter(x_values, y_values, c=\"r\", s= 5)\n",
    "\n",
    "    # generate a dummy x series\n",
    "    x_dummy = np.linspace(0, len(x_values))\n",
    "    \n",
    "    # plot the fit\n",
    "    ax.plot(x_dummy, second_order_poly_fit[0][0]*x_dummy**2 + second_order_poly_fit[0][1]*x_dummy + second_order_poly_fit[0][2], c=\"k\")\n",
    "    plt.title(equation)\n",
    "    plt.savefig(output_figure_folder + profile_table[len(output_table_folder):-3] + \"png\")\n",
    "    plt.close(fig)"
   ]
  }
 ],
 "metadata": {
  "kernelspec": {
   "display_name": "Python 3",
   "language": "python",
   "name": "python3"
  },
  "language_info": {
   "codemirror_mode": {
    "name": "ipython",
    "version": 3
   },
   "file_extension": ".py",
   "mimetype": "text/x-python",
   "name": "python",
   "nbconvert_exporter": "python",
   "pygments_lexer": "ipython3",
   "version": "3.7.4"
  }
 },
 "nbformat": 4,
 "nbformat_minor": 2
}
